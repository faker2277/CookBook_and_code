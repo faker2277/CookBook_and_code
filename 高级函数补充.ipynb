{
  "cells": [
    {
      "cell_type": "markdown",
      "metadata": {
        "pycharm": {}
      },
      "source": "# 给大家补充几个高级函数\n# zip\n- 把两个可迭代内容生成一个可迭代的tuple元素类型组成的内容啊啊"
    },
    {
      "cell_type": "code",
      "execution_count": 3,
      "metadata": {
        "pycharm": {}
      },
      "outputs": [
        {
          "name": "stdout",
          "output_type": "stream",
          "text": [
            "\u003cclass \u0027zip\u0027\u003e\n",
            "\u003czip object at 0x7f61c457ab88\u003e\n",
            "(1, 11)\n",
            "(2, 22)\n",
            "(3, 33)\n",
            "(4, 44)\n",
            "(5, 55)\n"
          ]
        }
      ],
      "source": [
        "# zip 案例\n",
        "l1 \u003d [ 1,2,3,4,5]\n",
        "l2 \u003d [11,22,33,44,55]\n",
        "\n",
        "z \u003d zip(l1, l2)\n",
        "\n",
        "print(type(z))\n",
        "print(z)\n",
        "\n",
        "for i in z:\n",
        "    print(i)"
      ]
    },
    {
      "cell_type": "code",
      "execution_count": 6,
      "metadata": {
        "pycharm": {}
      },
      "outputs": [
        {
          "name": "stdout",
          "output_type": "stream",
          "text": [
            "(\u0027wangwang\u0027, 89)\n",
            "(\u0027mingyue\u0027, 23)\n",
            "(\u0027yyt\u0027, 78)\n",
            "[]\n"
          ]
        }
      ],
      "source": [
        "l1 \u003d [\"wangwang\", \"mingyue\", \"yyt\"]\n",
        "l2 \u003d [89, 23, 78]\n",
        "\n",
        "z \u003d zip(l1, l2)\n",
        "\n",
        "for i in z:\n",
        "    print(i)\n",
        "    \n",
        "    \n",
        "# 考虑下面结果，为什么会为空\n",
        "l3 \u003d [i for i in z]\n",
        "print(l3)"
      ]
    },
    {
      "cell_type": "markdown",
      "metadata": {
        "pycharm": {}
      },
      "source": [
        "# enumerate \n",
        "- 跟zip功能比较像\n",
        "- 对可迭代对象里的每一元素，配上一个索引，然后索引和内容构成tuple类型\n"
      ]
    },
    {
      "cell_type": "code",
      "execution_count": 8,
      "metadata": {
        "pycharm": {}
      },
      "outputs": [
        {
          "name": "stdout",
          "output_type": "stream",
          "text": [
            "[(0, 11), (1, 22), (2, 33), (3, 44), (4, 55)]\n"
          ]
        }
      ],
      "source": [
        "# enumerate案例1\n",
        "l1 \u003d [11,22,33,44,55]\n",
        "\n",
        "em \u003d enumerate(l1)\n",
        "\n",
        "l2 \u003d [i for i in em]\n",
        "print(l2)"
      ]
    },
    {
      "cell_type": "code",
      "execution_count": 9,
      "metadata": {
        "pycharm": {}
      },
      "outputs": [
        {
          "name": "stdout",
          "output_type": "stream",
          "text": [
            "[(100, 11), (101, 22), (102, 33), (103, 44), (104, 55)]\n"
          ]
        }
      ],
      "source": [
        "em \u003d enumerate(l1, start\u003d100)\n",
        "\n",
        "l2 \u003d [ i for i in em]\n",
        "print(l2)"
      ]
    },
    {
      "cell_type": "markdown",
      "metadata": {
        "pycharm": {}
      },
      "source": [
        "# collections模块\n",
        "- namedtuple\n",
        "- deque\n"
      ]
    },
    {
      "cell_type": "markdown",
      "metadata": {
        "pycharm": {}
      },
      "source": [
        "### namedtuple\n",
        "- tuple类型\n",
        "- 是一个可命名的tuple"
      ]
    },
    {
      "cell_type": "code",
      "execution_count": 13,
      "metadata": {
        "pycharm": {}
      },
      "outputs": [
        {
          "name": "stdout",
          "output_type": "stream",
          "text": [
            "11\n",
            "11\n"
          ]
        }
      ],
      "source": [
        "import collections\n",
        "Point \u003d collections.namedtuple(\"Point\", [\u0027x\u0027, \u0027y\u0027])\n",
        "p \u003d Point(11, 22) \n",
        "print(p.x)\n",
        "print(p[0])"
      ]
    },
    {
      "cell_type": "code",
      "execution_count": 16,
      "metadata": {
        "pycharm": {}
      },
      "outputs": [
        {
          "name": "stdout",
          "output_type": "stream",
          "text": [
            "Circle(x\u003d100, y\u003d150, r\u003d50)\n",
            "\u003cclass \u0027__main__.Circle\u0027\u003e\n"
          ]
        },
        {
          "data": {
            "text/plain": [
              "True"
            ]
          },
          "execution_count": 16,
          "metadata": {},
          "output_type": "execute_result"
        }
      ],
      "source": [
        "Circle \u003d collections.namedtuple(\"Circle\", [\u0027x\u0027, \u0027y\u0027, \u0027r\u0027])\n",
        "\n",
        "c \u003d Circle(100, 150, 50)\n",
        "print(c)\n",
        "print(type(c))\n",
        "\n",
        "# 想检测以下namedtuple到底属于谁的子类\n",
        "isinstance(c, tuple)"
      ]
    },
    {
      "cell_type": "markdown",
      "metadata": {
        "pycharm": {}
      },
      "source": [
        "# dequeue\n",
        "- 比较方便的解决了频繁删除插入带来的效率问题"
      ]
    },
    {
      "cell_type": "code",
      "execution_count": 22,
      "metadata": {
        "pycharm": {}
      },
      "outputs": [
        {
          "name": "stdout",
          "output_type": "stream",
          "text": [
            "deque([\u0027a\u0027, \u0027b\u0027, \u0027c\u0027])\n",
            "deque([\u0027a\u0027, \u0027b\u0027, \u0027c\u0027, \u0027d\u0027])\n",
            "deque([\u0027x\u0027, \u0027a\u0027, \u0027b\u0027, \u0027c\u0027, \u0027d\u0027])\n"
          ]
        }
      ],
      "source": [
        "from collections import deque\n",
        "\n",
        "q \u003d deque([\u0027a\u0027, \u0027b\u0027, \u0027c\u0027])\n",
        "print(q)\n",
        "\n",
        "q.append(\"d\")\n",
        "print(q)\n",
        "\n",
        "q.appendleft(\u0027x\u0027)\n",
        "print(q)\n"
      ]
    },
    {
      "cell_type": "markdown",
      "metadata": {
        "pycharm": {}
      },
      "source": [
        "# defaultdict\n",
        "- 当直接读取dict不存在的属性时，直接返回默认值"
      ]
    },
    {
      "cell_type": "code",
      "execution_count": 27,
      "metadata": {
        "pycharm": {}
      },
      "outputs": [
        {
          "name": "stdout",
          "output_type": "stream",
          "text": [
            "1\n"
          ]
        },
        {
          "ename": "KeyError",
          "evalue": "\u0027four\u0027",
          "output_type": "error",
          "traceback": [
            "\u001b[0;31m---------------------------------------------------------------------------\u001b[0m",
            "\u001b[0;31mKeyError\u001b[0m                                  Traceback (most recent call last)",
            "\u001b[0;32m\u003cipython-input-27-d54a61646604\u003e\u001b[0m in \u001b[0;36m\u003cmodule\u003e\u001b[0;34m()\u001b[0m\n\u001b[1;32m      1\u001b[0m \u001b[0md1\u001b[0m \u001b[0;34m\u003d\u001b[0m \u001b[0;34m{\u001b[0m\u001b[0;34m\"one\"\u001b[0m\u001b[0;34m:\u001b[0m\u001b[0;36m1\u001b[0m\u001b[0;34m,\u001b[0m \u001b[0;34m\"two\"\u001b[0m\u001b[0;34m:\u001b[0m\u001b[0;36m2\u001b[0m\u001b[0;34m,\u001b[0m \u001b[0;34m\"three\"\u001b[0m\u001b[0;34m:\u001b[0m\u001b[0;36m3\u001b[0m\u001b[0;34m}\u001b[0m\u001b[0;34m\u001b[0m\u001b[0m\n\u001b[1;32m      2\u001b[0m \u001b[0mprint\u001b[0m\u001b[0;34m(\u001b[0m\u001b[0md1\u001b[0m\u001b[0;34m[\u001b[0m\u001b[0;34m\u0027one\u0027\u001b[0m\u001b[0;34m]\u001b[0m\u001b[0;34m)\u001b[0m\u001b[0;34m\u001b[0m\u001b[0m\n\u001b[0;32m----\u003e 3\u001b[0;31m \u001b[0mprint\u001b[0m\u001b[0;34m(\u001b[0m\u001b[0md1\u001b[0m\u001b[0;34m[\u001b[0m\u001b[0;34m\u0027four\u0027\u001b[0m\u001b[0;34m]\u001b[0m\u001b[0;34m)\u001b[0m\u001b[0;34m\u001b[0m\u001b[0m\n\u001b[0m",
            "\u001b[0;31mKeyError\u001b[0m: \u0027four\u0027"
          ]
        }
      ],
      "source": [
        "d1 \u003d {\"one\":1, \"two\":2, \"three\":3}\n",
        "print(d1[\u0027one\u0027])\n",
        "print(d1[\u0027four\u0027])"
      ]
    },
    {
      "cell_type": "code",
      "execution_count": 34,
      "metadata": {
        "pycharm": {}
      },
      "outputs": [
        {
          "name": "stdout",
          "output_type": "stream",
          "text": [
            "1\n",
            "刘大拿\n"
          ]
        }
      ],
      "source": [
        "from collections import defaultdict\n",
        "# lambda表达式，直接返回字符串\n",
        "func \u003d lambda: \"刘大拿\"\n",
        "d2 \u003d defaultdict(func)\n",
        "\n",
        "d2[\"one\"] \u003d 1\n",
        "d2[\"two\"] \u003d 2\n",
        "\n",
        "print(d2[\u0027one\u0027])\n",
        "print(d2[\u0027four\u0027])"
      ]
    },
    {
      "cell_type": "markdown",
      "metadata": {
        "pycharm": {}
      },
      "source": [
        "# Counter\n",
        "- 统计字符串个数"
      ]
    },
    {
      "cell_type": "code",
      "execution_count": 39,
      "metadata": {
        "pycharm": {}
      },
      "outputs": [
        {
          "name": "stdout",
          "output_type": "stream",
          "text": [
            "Counter({\u0027a\u0027: 6, \u0027b\u0027: 5, \u0027c\u0027: 4, \u0027d\u0027: 3, \u0027e\u0027: 2, \u0027f\u0027: 1, \u0027g\u0027: 1})\n"
          ]
        }
      ],
      "source": [
        "from collections import Counter\n",
        "\n",
        "# 为什么下面结果不把abcdefgabced.....作为键值，而是以其中每一个字母作为键值\n",
        "# 需要括号里内容为可迭代\n",
        "c \u003d Counter(\"abcdefgabcdeabcdabcaba\")\n",
        "print(c)"
      ]
    },
    {
      "cell_type": "code",
      "execution_count": 40,
      "metadata": {
        "pycharm": {}
      },
      "outputs": [
        {
          "name": "stdout",
          "output_type": "stream",
          "text": [
            "Counter({\u0027love\u0027: 4, \u0027liudana\u0027: 1, \u0027wangxiaona\u0027: 1})\n"
          ]
        }
      ],
      "source": [
        "s \u003d [\"liudana\", \"love\", \"love\", \"love\", \"love\", \"wangxiaona\"]\n",
        "c \u003d Counter(s)\n",
        "\n",
        "print(c)"
      ]
    },
    {
      "cell_type": "code",
      "execution_count": null,
      "metadata": {
        "collapsed": true,
        "pycharm": {}
      },
      "outputs": [],
      "source": []
    },
    {
      "cell_type": "code",
      "execution_count": null,
      "metadata": {
        "collapsed": true,
        "pycharm": {}
      },
      "outputs": [],
      "source": []
    },
    {
      "cell_type": "code",
      "execution_count": null,
      "metadata": {
        "collapsed": true,
        "pycharm": {}
      },
      "outputs": [],
      "source": []
    },
    {
      "cell_type": "code",
      "execution_count": null,
      "metadata": {
        "collapsed": true,
        "pycharm": {}
      },
      "outputs": [],
      "source": []
    },
    {
      "cell_type": "code",
      "execution_count": null,
      "metadata": {
        "collapsed": true,
        "pycharm": {}
      },
      "outputs": [],
      "source": []
    }
  ],
  "metadata": {
    "kernelspec": {
      "display_name": "Python 3",
      "language": "python",
      "name": "python3"
    },
    "language_info": {
      "codemirror_mode": {
        "name": "ipython",
        "version": 3
      },
      "file_extension": ".py",
      "mimetype": "text/x-python",
      "name": "python",
      "nbconvert_exporter": "python",
      "pygments_lexer": "ipython3",
      "version": "3.6.3"
    }
  },
  "nbformat": 4,
  "nbformat_minor": 2
}